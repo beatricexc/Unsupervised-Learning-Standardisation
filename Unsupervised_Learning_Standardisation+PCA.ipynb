{
  "nbformat": 4,
  "nbformat_minor": 0,
  "metadata": {
    "colab": {
      "name": "Unsupervised Learning Standardisation+PCA",
      "provenance": [],
      "mount_file_id": "1HWDOZ0HqEb_EIRq5JgzkorU5upiQizv3",
      "authorship_tag": "ABX9TyN/Z3Ow2fIHgKwTN9xIKCLr",
      "include_colab_link": true
    },
    "kernelspec": {
      "name": "python3",
      "display_name": "Python 3"
    },
    "language_info": {
      "name": "python"
    }
  },
  "cells": [
    {
      "cell_type": "markdown",
      "metadata": {
        "id": "view-in-github",
        "colab_type": "text"
      },
      "source": [
        "<a href=\"https://colab.research.google.com/github/beatricexc/Unsupervised-Learning-Standardisation/blob/main/Unsupervised_Learning_Standardisation%2BPCA.ipynb\" target=\"_parent\"><img src=\"https://colab.research.google.com/assets/colab-badge.svg\" alt=\"Open In Colab\"/></a>"
      ]
    },
    {
      "cell_type": "code",
      "execution_count": 22,
      "metadata": {
        "id": "d5vWBl5H7FMn"
      },
      "outputs": [],
      "source": [
        "import numpy as np #linear algebra\n",
        "import pandas as pd # data processing  CSVfile Io (ed pd.read_csv)\n",
        "import matplotlib.pyplot as plt\n",
        "import seaborn as sns\n",
        "import warnings\n",
        "#ignore warnings\n",
        "warnings.filterwarnings(\"ignore\")\n",
        "from subprocess import check_output"
      ]
    },
    {
      "cell_type": "code",
      "source": [
        "# read csv into data\n",
        "data = pd.read_csv(\"/content/drive/MyDrive/column_2C_weka.csv\")\n",
        "print(plt.style.available) # check the available plot styles\n",
        "plt.style.use('ggplot')"
      ],
      "metadata": {
        "colab": {
          "base_uri": "https://localhost:8080/"
        },
        "id": "VQVoY0hk7zvz",
        "outputId": "91e13fb0-8269-46a5-d6a3-494d783b7fcd"
      },
      "execution_count": 4,
      "outputs": [
        {
          "output_type": "stream",
          "name": "stdout",
          "text": [
            "['Solarize_Light2', '_classic_test_patch', 'bmh', 'classic', 'dark_background', 'fast', 'fivethirtyeight', 'ggplot', 'grayscale', 'seaborn', 'seaborn-bright', 'seaborn-colorblind', 'seaborn-dark', 'seaborn-dark-palette', 'seaborn-darkgrid', 'seaborn-deep', 'seaborn-muted', 'seaborn-notebook', 'seaborn-paper', 'seaborn-pastel', 'seaborn-poster', 'seaborn-talk', 'seaborn-ticks', 'seaborn-white', 'seaborn-whitegrid', 'tableau-colorblind10']\n"
          ]
        }
      ]
    },
    {
      "cell_type": "markdown",
      "source": [
        "Exploratory Data Analysis (EDA) for Supervised Learning"
      ],
      "metadata": {
        "id": "vstHgqIH9pp1"
      }
    },
    {
      "cell_type": "code",
      "source": [
        "# to see the features and the target variables \n",
        "data.head()"
      ],
      "metadata": {
        "colab": {
          "base_uri": "https://localhost:8080/",
          "height": 206
        },
        "id": "X2tSbMds9yWR",
        "outputId": "f30f8458-2d8e-461e-b0c5-1b3b4ab6347f"
      },
      "execution_count": null,
      "outputs": [
        {
          "output_type": "execute_result",
          "data": {
            "text/html": [
              "\n",
              "  <div id=\"df-bcc6a422-dd6b-4b73-b5c3-4056330ed9a8\">\n",
              "    <div class=\"colab-df-container\">\n",
              "      <div>\n",
              "<style scoped>\n",
              "    .dataframe tbody tr th:only-of-type {\n",
              "        vertical-align: middle;\n",
              "    }\n",
              "\n",
              "    .dataframe tbody tr th {\n",
              "        vertical-align: top;\n",
              "    }\n",
              "\n",
              "    .dataframe thead th {\n",
              "        text-align: right;\n",
              "    }\n",
              "</style>\n",
              "<table border=\"1\" class=\"dataframe\">\n",
              "  <thead>\n",
              "    <tr style=\"text-align: right;\">\n",
              "      <th></th>\n",
              "      <th>pelvic_incidence</th>\n",
              "      <th>pelvic_tilt numeric</th>\n",
              "      <th>lumbar_lordosis_angle</th>\n",
              "      <th>sacral_slope</th>\n",
              "      <th>pelvic_radius</th>\n",
              "      <th>degree_spondylolisthesis</th>\n",
              "      <th>class</th>\n",
              "    </tr>\n",
              "  </thead>\n",
              "  <tbody>\n",
              "    <tr>\n",
              "      <th>0</th>\n",
              "      <td>63.027818</td>\n",
              "      <td>22.552586</td>\n",
              "      <td>39.609117</td>\n",
              "      <td>40.475232</td>\n",
              "      <td>98.672917</td>\n",
              "      <td>-0.254400</td>\n",
              "      <td>Abnormal</td>\n",
              "    </tr>\n",
              "    <tr>\n",
              "      <th>1</th>\n",
              "      <td>39.056951</td>\n",
              "      <td>10.060991</td>\n",
              "      <td>25.015378</td>\n",
              "      <td>28.995960</td>\n",
              "      <td>114.405425</td>\n",
              "      <td>4.564259</td>\n",
              "      <td>Abnormal</td>\n",
              "    </tr>\n",
              "    <tr>\n",
              "      <th>2</th>\n",
              "      <td>68.832021</td>\n",
              "      <td>22.218482</td>\n",
              "      <td>50.092194</td>\n",
              "      <td>46.613539</td>\n",
              "      <td>105.985135</td>\n",
              "      <td>-3.530317</td>\n",
              "      <td>Abnormal</td>\n",
              "    </tr>\n",
              "    <tr>\n",
              "      <th>3</th>\n",
              "      <td>69.297008</td>\n",
              "      <td>24.652878</td>\n",
              "      <td>44.311238</td>\n",
              "      <td>44.644130</td>\n",
              "      <td>101.868495</td>\n",
              "      <td>11.211523</td>\n",
              "      <td>Abnormal</td>\n",
              "    </tr>\n",
              "    <tr>\n",
              "      <th>4</th>\n",
              "      <td>49.712859</td>\n",
              "      <td>9.652075</td>\n",
              "      <td>28.317406</td>\n",
              "      <td>40.060784</td>\n",
              "      <td>108.168725</td>\n",
              "      <td>7.918501</td>\n",
              "      <td>Abnormal</td>\n",
              "    </tr>\n",
              "  </tbody>\n",
              "</table>\n",
              "</div>\n",
              "      <button class=\"colab-df-convert\" onclick=\"convertToInteractive('df-bcc6a422-dd6b-4b73-b5c3-4056330ed9a8')\"\n",
              "              title=\"Convert this dataframe to an interactive table.\"\n",
              "              style=\"display:none;\">\n",
              "        \n",
              "  <svg xmlns=\"http://www.w3.org/2000/svg\" height=\"24px\"viewBox=\"0 0 24 24\"\n",
              "       width=\"24px\">\n",
              "    <path d=\"M0 0h24v24H0V0z\" fill=\"none\"/>\n",
              "    <path d=\"M18.56 5.44l.94 2.06.94-2.06 2.06-.94-2.06-.94-.94-2.06-.94 2.06-2.06.94zm-11 1L8.5 8.5l.94-2.06 2.06-.94-2.06-.94L8.5 2.5l-.94 2.06-2.06.94zm10 10l.94 2.06.94-2.06 2.06-.94-2.06-.94-.94-2.06-.94 2.06-2.06.94z\"/><path d=\"M17.41 7.96l-1.37-1.37c-.4-.4-.92-.59-1.43-.59-.52 0-1.04.2-1.43.59L10.3 9.45l-7.72 7.72c-.78.78-.78 2.05 0 2.83L4 21.41c.39.39.9.59 1.41.59.51 0 1.02-.2 1.41-.59l7.78-7.78 2.81-2.81c.8-.78.8-2.07 0-2.86zM5.41 20L4 18.59l7.72-7.72 1.47 1.35L5.41 20z\"/>\n",
              "  </svg>\n",
              "      </button>\n",
              "      \n",
              "  <style>\n",
              "    .colab-df-container {\n",
              "      display:flex;\n",
              "      flex-wrap:wrap;\n",
              "      gap: 12px;\n",
              "    }\n",
              "\n",
              "    .colab-df-convert {\n",
              "      background-color: #E8F0FE;\n",
              "      border: none;\n",
              "      border-radius: 50%;\n",
              "      cursor: pointer;\n",
              "      display: none;\n",
              "      fill: #1967D2;\n",
              "      height: 32px;\n",
              "      padding: 0 0 0 0;\n",
              "      width: 32px;\n",
              "    }\n",
              "\n",
              "    .colab-df-convert:hover {\n",
              "      background-color: #E2EBFA;\n",
              "      box-shadow: 0px 1px 2px rgba(60, 64, 67, 0.3), 0px 1px 3px 1px rgba(60, 64, 67, 0.15);\n",
              "      fill: #174EA6;\n",
              "    }\n",
              "\n",
              "    [theme=dark] .colab-df-convert {\n",
              "      background-color: #3B4455;\n",
              "      fill: #D2E3FC;\n",
              "    }\n",
              "\n",
              "    [theme=dark] .colab-df-convert:hover {\n",
              "      background-color: #434B5C;\n",
              "      box-shadow: 0px 1px 3px 1px rgba(0, 0, 0, 0.15);\n",
              "      filter: drop-shadow(0px 1px 2px rgba(0, 0, 0, 0.3));\n",
              "      fill: #FFFFFF;\n",
              "    }\n",
              "  </style>\n",
              "\n",
              "      <script>\n",
              "        const buttonEl =\n",
              "          document.querySelector('#df-bcc6a422-dd6b-4b73-b5c3-4056330ed9a8 button.colab-df-convert');\n",
              "        buttonEl.style.display =\n",
              "          google.colab.kernel.accessAllowed ? 'block' : 'none';\n",
              "\n",
              "        async function convertToInteractive(key) {\n",
              "          const element = document.querySelector('#df-bcc6a422-dd6b-4b73-b5c3-4056330ed9a8');\n",
              "          const dataTable =\n",
              "            await google.colab.kernel.invokeFunction('convertToInteractive',\n",
              "                                                     [key], {});\n",
              "          if (!dataTable) return;\n",
              "\n",
              "          const docLinkHtml = 'Like what you see? Visit the ' +\n",
              "            '<a target=\"_blank\" href=https://colab.research.google.com/notebooks/data_table.ipynb>data table notebook</a>'\n",
              "            + ' to learn more about interactive tables.';\n",
              "          element.innerHTML = '';\n",
              "          dataTable['output_type'] = 'display_data';\n",
              "          await google.colab.output.renderOutput(dataTable, element);\n",
              "          const docLink = document.createElement('div');\n",
              "          docLink.innerHTML = docLinkHtml;\n",
              "          element.appendChild(docLink);\n",
              "        }\n",
              "      </script>\n",
              "    </div>\n",
              "  </div>\n",
              "  "
            ],
            "text/plain": [
              "   pelvic_incidence  pelvic_tilt numeric  ...  degree_spondylolisthesis     class\n",
              "0         63.027818            22.552586  ...                 -0.254400  Abnormal\n",
              "1         39.056951            10.060991  ...                  4.564259  Abnormal\n",
              "2         68.832021            22.218482  ...                 -3.530317  Abnormal\n",
              "3         69.297008            24.652878  ...                 11.211523  Abnormal\n",
              "4         49.712859             9.652075  ...                  7.918501  Abnormal\n",
              "\n",
              "[5 rows x 7 columns]"
            ]
          },
          "metadata": {},
          "execution_count": 7
        }
      ]
    },
    {
      "cell_type": "code",
      "source": [
        "# checking for empty values in the dataset\n",
        "data.info()"
      ],
      "metadata": {
        "colab": {
          "base_uri": "https://localhost:8080/"
        },
        "id": "U_NzMznw99QB",
        "outputId": "79dfb49e-84b3-4844-e4cc-1c9bc14a902e"
      },
      "execution_count": null,
      "outputs": [
        {
          "output_type": "stream",
          "name": "stdout",
          "text": [
            "<class 'pandas.core.frame.DataFrame'>\n",
            "RangeIndex: 310 entries, 0 to 309\n",
            "Data columns (total 7 columns):\n",
            " #   Column                    Non-Null Count  Dtype  \n",
            "---  ------                    --------------  -----  \n",
            " 0   pelvic_incidence          310 non-null    float64\n",
            " 1   pelvic_tilt numeric       310 non-null    float64\n",
            " 2   lumbar_lordosis_angle     310 non-null    float64\n",
            " 3   sacral_slope              310 non-null    float64\n",
            " 4   pelvic_radius             310 non-null    float64\n",
            " 5   degree_spondylolisthesis  310 non-null    float64\n",
            " 6   class                     310 non-null    object \n",
            "dtypes: float64(6), object(1)\n",
            "memory usage: 17.1+ KB\n"
          ]
        }
      ]
    },
    {
      "cell_type": "code",
      "source": [
        "data.describe()"
      ],
      "metadata": {
        "colab": {
          "base_uri": "https://localhost:8080/",
          "height": 300
        },
        "id": "5adnbt9p-Sgp",
        "outputId": "0ea801f3-7b68-4261-efc8-2124ea0cc6e6"
      },
      "execution_count": null,
      "outputs": [
        {
          "output_type": "execute_result",
          "data": {
            "text/html": [
              "\n",
              "  <div id=\"df-8cb26a08-6907-4994-b9fe-ec22a904984a\">\n",
              "    <div class=\"colab-df-container\">\n",
              "      <div>\n",
              "<style scoped>\n",
              "    .dataframe tbody tr th:only-of-type {\n",
              "        vertical-align: middle;\n",
              "    }\n",
              "\n",
              "    .dataframe tbody tr th {\n",
              "        vertical-align: top;\n",
              "    }\n",
              "\n",
              "    .dataframe thead th {\n",
              "        text-align: right;\n",
              "    }\n",
              "</style>\n",
              "<table border=\"1\" class=\"dataframe\">\n",
              "  <thead>\n",
              "    <tr style=\"text-align: right;\">\n",
              "      <th></th>\n",
              "      <th>pelvic_incidence</th>\n",
              "      <th>pelvic_tilt numeric</th>\n",
              "      <th>lumbar_lordosis_angle</th>\n",
              "      <th>sacral_slope</th>\n",
              "      <th>pelvic_radius</th>\n",
              "      <th>degree_spondylolisthesis</th>\n",
              "    </tr>\n",
              "  </thead>\n",
              "  <tbody>\n",
              "    <tr>\n",
              "      <th>count</th>\n",
              "      <td>310.000000</td>\n",
              "      <td>310.000000</td>\n",
              "      <td>310.000000</td>\n",
              "      <td>310.000000</td>\n",
              "      <td>310.000000</td>\n",
              "      <td>310.000000</td>\n",
              "    </tr>\n",
              "    <tr>\n",
              "      <th>mean</th>\n",
              "      <td>60.496653</td>\n",
              "      <td>17.542822</td>\n",
              "      <td>51.930930</td>\n",
              "      <td>42.953831</td>\n",
              "      <td>117.920655</td>\n",
              "      <td>26.296694</td>\n",
              "    </tr>\n",
              "    <tr>\n",
              "      <th>std</th>\n",
              "      <td>17.236520</td>\n",
              "      <td>10.008330</td>\n",
              "      <td>18.554064</td>\n",
              "      <td>13.423102</td>\n",
              "      <td>13.317377</td>\n",
              "      <td>37.559027</td>\n",
              "    </tr>\n",
              "    <tr>\n",
              "      <th>min</th>\n",
              "      <td>26.147921</td>\n",
              "      <td>-6.554948</td>\n",
              "      <td>14.000000</td>\n",
              "      <td>13.366931</td>\n",
              "      <td>70.082575</td>\n",
              "      <td>-11.058179</td>\n",
              "    </tr>\n",
              "    <tr>\n",
              "      <th>25%</th>\n",
              "      <td>46.430294</td>\n",
              "      <td>10.667069</td>\n",
              "      <td>37.000000</td>\n",
              "      <td>33.347122</td>\n",
              "      <td>110.709196</td>\n",
              "      <td>1.603727</td>\n",
              "    </tr>\n",
              "    <tr>\n",
              "      <th>50%</th>\n",
              "      <td>58.691038</td>\n",
              "      <td>16.357689</td>\n",
              "      <td>49.562398</td>\n",
              "      <td>42.404912</td>\n",
              "      <td>118.268178</td>\n",
              "      <td>11.767934</td>\n",
              "    </tr>\n",
              "    <tr>\n",
              "      <th>75%</th>\n",
              "      <td>72.877696</td>\n",
              "      <td>22.120395</td>\n",
              "      <td>63.000000</td>\n",
              "      <td>52.695888</td>\n",
              "      <td>125.467674</td>\n",
              "      <td>41.287352</td>\n",
              "    </tr>\n",
              "    <tr>\n",
              "      <th>max</th>\n",
              "      <td>129.834041</td>\n",
              "      <td>49.431864</td>\n",
              "      <td>125.742385</td>\n",
              "      <td>121.429566</td>\n",
              "      <td>163.071041</td>\n",
              "      <td>418.543082</td>\n",
              "    </tr>\n",
              "  </tbody>\n",
              "</table>\n",
              "</div>\n",
              "      <button class=\"colab-df-convert\" onclick=\"convertToInteractive('df-8cb26a08-6907-4994-b9fe-ec22a904984a')\"\n",
              "              title=\"Convert this dataframe to an interactive table.\"\n",
              "              style=\"display:none;\">\n",
              "        \n",
              "  <svg xmlns=\"http://www.w3.org/2000/svg\" height=\"24px\"viewBox=\"0 0 24 24\"\n",
              "       width=\"24px\">\n",
              "    <path d=\"M0 0h24v24H0V0z\" fill=\"none\"/>\n",
              "    <path d=\"M18.56 5.44l.94 2.06.94-2.06 2.06-.94-2.06-.94-.94-2.06-.94 2.06-2.06.94zm-11 1L8.5 8.5l.94-2.06 2.06-.94-2.06-.94L8.5 2.5l-.94 2.06-2.06.94zm10 10l.94 2.06.94-2.06 2.06-.94-2.06-.94-.94-2.06-.94 2.06-2.06.94z\"/><path d=\"M17.41 7.96l-1.37-1.37c-.4-.4-.92-.59-1.43-.59-.52 0-1.04.2-1.43.59L10.3 9.45l-7.72 7.72c-.78.78-.78 2.05 0 2.83L4 21.41c.39.39.9.59 1.41.59.51 0 1.02-.2 1.41-.59l7.78-7.78 2.81-2.81c.8-.78.8-2.07 0-2.86zM5.41 20L4 18.59l7.72-7.72 1.47 1.35L5.41 20z\"/>\n",
              "  </svg>\n",
              "      </button>\n",
              "      \n",
              "  <style>\n",
              "    .colab-df-container {\n",
              "      display:flex;\n",
              "      flex-wrap:wrap;\n",
              "      gap: 12px;\n",
              "    }\n",
              "\n",
              "    .colab-df-convert {\n",
              "      background-color: #E8F0FE;\n",
              "      border: none;\n",
              "      border-radius: 50%;\n",
              "      cursor: pointer;\n",
              "      display: none;\n",
              "      fill: #1967D2;\n",
              "      height: 32px;\n",
              "      padding: 0 0 0 0;\n",
              "      width: 32px;\n",
              "    }\n",
              "\n",
              "    .colab-df-convert:hover {\n",
              "      background-color: #E2EBFA;\n",
              "      box-shadow: 0px 1px 2px rgba(60, 64, 67, 0.3), 0px 1px 3px 1px rgba(60, 64, 67, 0.15);\n",
              "      fill: #174EA6;\n",
              "    }\n",
              "\n",
              "    [theme=dark] .colab-df-convert {\n",
              "      background-color: #3B4455;\n",
              "      fill: #D2E3FC;\n",
              "    }\n",
              "\n",
              "    [theme=dark] .colab-df-convert:hover {\n",
              "      background-color: #434B5C;\n",
              "      box-shadow: 0px 1px 3px 1px rgba(0, 0, 0, 0.15);\n",
              "      filter: drop-shadow(0px 1px 2px rgba(0, 0, 0, 0.3));\n",
              "      fill: #FFFFFF;\n",
              "    }\n",
              "  </style>\n",
              "\n",
              "      <script>\n",
              "        const buttonEl =\n",
              "          document.querySelector('#df-8cb26a08-6907-4994-b9fe-ec22a904984a button.colab-df-convert');\n",
              "        buttonEl.style.display =\n",
              "          google.colab.kernel.accessAllowed ? 'block' : 'none';\n",
              "\n",
              "        async function convertToInteractive(key) {\n",
              "          const element = document.querySelector('#df-8cb26a08-6907-4994-b9fe-ec22a904984a');\n",
              "          const dataTable =\n",
              "            await google.colab.kernel.invokeFunction('convertToInteractive',\n",
              "                                                     [key], {});\n",
              "          if (!dataTable) return;\n",
              "\n",
              "          const docLinkHtml = 'Like what you see? Visit the ' +\n",
              "            '<a target=\"_blank\" href=https://colab.research.google.com/notebooks/data_table.ipynb>data table notebook</a>'\n",
              "            + ' to learn more about interactive tables.';\n",
              "          element.innerHTML = '';\n",
              "          dataTable['output_type'] = 'display_data';\n",
              "          await google.colab.output.renderOutput(dataTable, element);\n",
              "          const docLink = document.createElement('div');\n",
              "          docLink.innerHTML = docLinkHtml;\n",
              "          element.appendChild(docLink);\n",
              "        }\n",
              "      </script>\n",
              "    </div>\n",
              "  </div>\n",
              "  "
            ],
            "text/plain": [
              "       pelvic_incidence  ...  degree_spondylolisthesis\n",
              "count        310.000000  ...                310.000000\n",
              "mean          60.496653  ...                 26.296694\n",
              "std           17.236520  ...                 37.559027\n",
              "min           26.147921  ...                -11.058179\n",
              "25%           46.430294  ...                  1.603727\n",
              "50%           58.691038  ...                 11.767934\n",
              "75%           72.877696  ...                 41.287352\n",
              "max          129.834041  ...                418.543082\n",
              "\n",
              "[8 rows x 6 columns]"
            ]
          },
          "metadata": {},
          "execution_count": 11
        }
      ]
    },
    {
      "cell_type": "markdown",
      "source": [
        "pd.plotting.scatter_matrix\n",
        "\n",
        "- green: *normal* and red: *abnormal*\n",
        "- c: color\n",
        "- figsize: figure size \n",
        "- diagonal : histogram of each featurew\n",
        "- alpha: opacity \n",
        "- s: size of marker\n",
        "- marker: marker type"
      ],
      "metadata": {
        "id": "q4eDntlq-dL5"
      }
    },
    {
      "cell_type": "markdown",
      "source": [
        "## Unsupervised Learning\n",
        "\n",
        "- uses unlabled data and it is used to uncover hidden patterns from unlabeled data sets. "
      ],
      "metadata": {
        "id": "E68-jCwBUqLo"
      }
    },
    {
      "cell_type": "markdown",
      "source": [
        "### KMeans Cluster\n",
        "- unsupervised methad \n",
        "- this algorithm works iteratively to assign each data point to one of K groups based on the features that are provided. \n",
        "- data points are then clustered based on feature similarity\n",
        "- KMeans(n_clusters = 2): n_clusters = 2 means that create 2 clusters"
      ],
      "metadata": {
        "id": "5Enj5skgU493"
      }
    },
    {
      "cell_type": "code",
      "source": [
        "data = pd.read_csv('/content/drive/MyDrive/column_2C_weka.csv')\n",
        "plt.scatter(data['pelvic_radius'], data['degree_spondylolisthesis'])\n",
        "plt.xlabel('pelvic_radius')\n",
        "plt.ylabel('degree_spondylolisthesis')\n",
        "plt.show()\n"
      ],
      "metadata": {
        "colab": {
          "base_uri": "https://localhost:8080/",
          "height": 282
        },
        "id": "SCw0e731VaWQ",
        "outputId": "d68ed500-8bb7-45fd-def5-fe2ae8a47f7b"
      },
      "execution_count": 8,
      "outputs": [
        {
          "output_type": "display_data",
          "data": {
            "image/png": "[encoded data removed]",
            "text/plain": [
              "<Figure size 432x288 with 1 Axes>"
            ]
          },
          "metadata": {}
        }
      ]
    },
    {
      "cell_type": "code",
      "source": [
        "# Kmeans Clustering \n",
        "data2 = data.loc[:, ['degree_spondylolisthesis', 'pelvic_radius']]\n",
        "from sklearn.cluster import KMeans\n",
        "kmeans = KMeans(n_clusters =2)\n",
        "kmeans.fit(data2)\n",
        "labels = kmeans.predict(data2)\n",
        "plt.scatter(data['pelvic_radius'], data['degree_spondylolisthesis'], c = labels)\n",
        "plt.xlabel('pelvic_radius')\n",
        "plt.xlabel('degree_spondylolisthesis')\n",
        "plt.show()"
      ],
      "metadata": {
        "colab": {
          "base_uri": "https://localhost:8080/",
          "height": 282
        },
        "id": "9axvH_ZhWL94",
        "outputId": "7b3488ee-e3ab-4643-893b-88ecb21e7f79"
      },
      "execution_count": 9,
      "outputs": [
        {
          "output_type": "display_data",
          "data": {
            "image/png": "[encoded data removed]",
            "text/plain": [
              "<Figure size 432x288 with 1 Axes>"
            ]
          },
          "metadata": {}
        }
      ]
    },
    {
      "cell_type": "markdown",
      "source": [
        "We have clustered the data into two . In order to check if this is the correct clustering, we will use the cross tabulation table. \n",
        "\n",
        "- there are two clusters that are 0 and 1\n",
        "- first class 0 includes 138 abnormal and 100 normal patients\n",
        "- seecond class includes 72 abnormal and 0 normal patients. *The majority of two clusters are abnormal patients.\n"
      ],
      "metadata": {
        "id": "gZ2gDoOGXF34"
      }
    },
    {
      "cell_type": "code",
      "source": [
        "# cross tabulation table\n",
        "df = pd.DataFrame({'labels' : labels, \"class\" : data['class']})\n",
        "ct = pd.crosstab(df['labels'], df['class'])\n",
        "print(ct)"
      ],
      "metadata": {
        "colab": {
          "base_uri": "https://localhost:8080/"
        },
        "id": "QYUz-WWsXjBn",
        "outputId": "13ef4196-b787-4a27-fd86-f99d663d119a"
      },
      "execution_count": 10,
      "outputs": [
        {
          "output_type": "stream",
          "name": "stdout",
          "text": [
            "class   Abnormal  Normal\n",
            "labels                  \n",
            "0            138     100\n",
            "1             72       0\n"
          ]
        }
      ]
    },
    {
      "cell_type": "markdown",
      "source": [
        "The new question is that we know how many class data includes, but what if the number of class is unknown in the data. This is similar to the hyperparameter in KNN or regression\n",
        "\n",
        "- inertia: how spread out is the cluster distance from each sample (It is the sum of squared distances of samples to their closest cluster center.)\n",
        "- lower inertia = more clusters\n",
        "- What is the best number of clusters? There is low inertia and not too many clusters  tradeoff so we can choose the elbow method"
      ],
      "metadata": {
        "id": "s8N-jXokYIuP"
      }
    },
    {
      "cell_type": "code",
      "source": [
        "# inertia\n",
        "\n",
        "inertia_list = np.empty(8)\n",
        "for i in range(1, 8):\n",
        "  kmeans = KMeans(n_clusters=1)\n",
        "  kmeans.fit(data2)\n",
        "  inertia_list[1]= kmeans.inertia_\n",
        "\n",
        "plt.plot(range(0,8), inertia_list, '-o')\n",
        "plt.xlabel('Number of cluster')\n",
        "plt.ylabel('Inertia')\n",
        "plt.show()"
      ],
      "metadata": {
        "colab": {
          "base_uri": "https://localhost:8080/",
          "height": 282
        },
        "id": "-XRSow_xYtqX",
        "outputId": "839f9d97-d952-4ad3-e9e4-7643fb2588fb"
      },
      "execution_count": 11,
      "outputs": [
        {
          "output_type": "display_data",
          "data": {
            "image/png": "[encoded data removed]",
            "text/plain": [
              "<Figure size 432x288 with 1 Axes>"
            ]
          },
          "metadata": {}
        }
      ]
    },
    {
      "cell_type": "code",
      "source": [
        ""
      ],
      "metadata": {
        "id": "9TBxveI6d_aw"
      },
      "execution_count": null,
      "outputs": []
    },
    {
      "cell_type": "markdown",
      "source": [
        "## Standardisation\n",
        "\n",
        "- this is important for both supervised and unsupervised learning\n",
        "- standardisation is a pre-processing element\n",
        "- as we have already visualised the data, we can use all features for clustering\n",
        "- we can use pipeline like supervised learning"
      ],
      "metadata": {
        "id": "M1uZcwPueAEX"
      }
    },
    {
      "cell_type": "code",
      "source": [
        "data = pd.read_csv(\"/content/drive/MyDrive/column_2C_weka.csv\")\n",
        "data3= data.drop('class', axis = 1)"
      ],
      "metadata": {
        "id": "sys1sfXbeV-o"
      },
      "execution_count": 5,
      "outputs": []
    },
    {
      "cell_type": "code",
      "source": [
        "from sklearn.preprocessing import StandardScaler\n",
        "from sklearn.pipeline import make_pipeline\n",
        "scalar = StandardScaler()\n",
        "kmeans = KMeans(n_clusters = 2)\n",
        "pipe = make_pipeline(scalar,kmeans)\n",
        "pipe.fit(data3)\n",
        "labels = pipe.predict(data3)\n",
        "df = pd.DataFrame({'labels':labels,\"class\":data['class']})\n",
        "ct = pd.crosstab(df['labels'],df['class'])\n",
        "print(ct)"
      ],
      "metadata": {
        "colab": {
          "base_uri": "https://localhost:8080/"
        },
        "id": "5sVYUqzfehdI",
        "outputId": "287e31ea-9185-4c6c-b92b-c3fbaa432050"
      },
      "execution_count": 15,
      "outputs": [
        {
          "output_type": "stream",
          "name": "stdout",
          "text": [
            "class   Abnormal  Normal\n",
            "labels                  \n",
            "0             94      90\n",
            "1            116      10\n"
          ]
        }
      ]
    },
    {
      "cell_type": "markdown",
      "source": [
        "## Hierarchy \n",
        "- vertical lines are clusters\n",
        "- height on dendogram: distance between merging clusters\n",
        "- method = 'single': closest points of clusters \n"
      ],
      "metadata": {
        "id": "UvRHt5oPfkKm"
      }
    },
    {
      "cell_type": "markdown",
      "source": [
        ""
      ],
      "metadata": {
        "id": "GbHHpbx2i8Bs"
      }
    },
    {
      "cell_type": "code",
      "source": [
        "from scipy.cluster.hierarchy import linkage,dendrogram\n",
        "\n",
        "merg = linkage(data3.iloc[200:220,:],method = 'single')\n",
        "dendrogram(merg, leaf_rotation = 90, leaf_font_size = 6)\n",
        "plt.show()"
      ],
      "metadata": {
        "colab": {
          "base_uri": "https://localhost:8080/",
          "height": 263
        },
        "id": "I4YwHBrhf223",
        "outputId": "dccd64a0-a18f-40bb-9bb2-6f39c6e44939"
      },
      "execution_count": 17,
      "outputs": [
        {
          "output_type": "display_data",
          "data": {
            "image/png": "[encoded data removed]",
            "text/plain": [
              "<Figure size 432x288 with 1 Axes>"
            ]
          },
          "metadata": {}
        }
      ]
    },
    {
      "cell_type": "markdown",
      "source": [
        "## T-Distributed Stochastic Neighbor Embedding (T-SNE)\n",
        "\n",
        "- learning rate: 50-200 in normal\n",
        "- fit_transform: it is both fit and transform \n",
        "- varietes have the same position to one another "
      ],
      "metadata": {
        "id": "kmGEB2dsi-Um"
      }
    },
    {
      "cell_type": "code",
      "source": [
        "from sklearn.manifold import TSNE\n",
        "model = TSNE(learning_rate=100)\n",
        "transformed = model.fit_transform(data2)\n",
        "x = transformed[:,0]\n",
        "y = transformed[:,1]\n",
        "color_list = ['red' if i == 'Abnormal' else 'green' for i in data.loc[:, 'class']]\n",
        "plt.scatter(x,y, c= color_list)\n",
        "plt.xlabel('pelvic_radius')\n",
        "plt.xlabel('degree_spondylolisthesis')\n",
        "plt.show()"
      ],
      "metadata": {
        "colab": {
          "base_uri": "https://localhost:8080/",
          "height": 282
        },
        "id": "OTULljtFjTM2",
        "outputId": "ff4ae1da-1c20-417f-cc2b-7a64434dcc4f"
      },
      "execution_count": 55,
      "outputs": [
        {
          "output_type": "display_data",
          "data": {
            "image/png": "[encoded data removed]",
            "text/plain": [
              "<Figure size 432x288 with 1 Axes>"
            ]
          },
          "metadata": {}
        }
      ]
    },
    {
      "cell_type": "markdown",
      "source": [
        "## Principle Component Analysis (PCA)\n",
        "\n",
        "- Fundamental dimension reduction technique\n",
        "- first step is decorrelation: \n",
        "   <ul type =\"square\" >\n",
        "   <li> rotates data samples to be aligned with axes\n",
        "   <li> shifts data samples so they have the mean 0 \n",
        "   <li> no information is lost\n",
        "   <li> fit(): learn how to shift samples\n",
        "   <li> transform(): apply the learnt transformation. \n",
        "It can also be applied to test data\n",
        "\n",
        "- Resulting PCA features are not linearly correlated\n",
        "- Principle components: directions of variance."
      ],
      "metadata": {
        "id": "MtSu-TA9opEE"
      }
    },
    {
      "cell_type": "code",
      "source": [
        "from sklearn.decomposition import PCA\n",
        "model = PCA()\n",
        "model.fit(data3)\n",
        "transformed = model.transform(data3)\n",
        "print('Principle components: ', model.components_)"
      ],
      "metadata": {
        "colab": {
          "base_uri": "https://localhost:8080/"
        },
        "id": "zhNhAT-Ax1l4",
        "outputId": "ddfe5b57-eb19-4f16-e85d-2a584f31fc0c"
      },
      "execution_count": 56,
      "outputs": [
        {
          "output_type": "stream",
          "name": "stdout",
          "text": [
            "Principle components:  [[ 3.23645647e-01  1.13192291e-01  3.03674740e-01  2.10453357e-01\n",
            "  -2.99598300e-02  8.63153779e-01]\n",
            " [-4.76634849e-01 -9.85632787e-02 -5.32783979e-01 -3.78071570e-01\n",
            "   3.21809199e-01  4.82438036e-01]\n",
            " [-1.54481282e-03 -2.64657410e-01 -4.96541893e-01  2.63112598e-01\n",
            "  -7.74612852e-01  1.18940778e-01]\n",
            " [ 3.73677251e-01  7.54113757e-01 -3.39411757e-01 -3.80436506e-01\n",
            "  -1.75106042e-01 -3.29143086e-02]\n",
            " [-4.41703869e-01  7.35414748e-02  5.12024113e-01 -5.15245344e-01\n",
            "  -5.14639730e-01  8.35992525e-02]\n",
            " [ 5.77350269e-01 -5.77350269e-01 -1.08931753e-11 -5.77350269e-01\n",
            "  -3.59057228e-12  3.06721315e-12]]\n"
          ]
        }
      ]
    },
    {
      "cell_type": "code",
      "source": [
        "# PCA variance \n",
        "scaler = StandardScaler()\n",
        "pca = PCA()\n",
        "pipeline = make_pipeline(scaler, pca)\n",
        "pipeline.fit(data3)\n",
        "\n",
        "plt.bar(range(pca.n_components_), pca.explained_variance_)\n",
        "plt.xlabel('PCA feature')\n",
        "plt.ylabel('variance')\n",
        "plt.show()"
      ],
      "metadata": {
        "colab": {
          "base_uri": "https://localhost:8080/",
          "height": 282
        },
        "id": "SMYKCS69yL5h",
        "outputId": "1e04a891-4450-4b7b-f429-3d15439ec325"
      },
      "execution_count": 58,
      "outputs": [
        {
          "output_type": "display_data",
          "data": {
            "image/png": "[encoded data removed]",
            "text/plain": [
              "<Figure size 432x288 with 1 Axes>"
            ]
          },
          "metadata": {}
        }
      ]
    },
    {
      "cell_type": "markdown",
      "source": [
        "- Second step: intrinsic dimension = the number of features needed to approximate the essential data behind dimension reduction\n",
        "- PCA identifies intrinsinc dimension when samples have any number of features\n",
        "- intrinsic dimension = number of PCA feature with significant variance\n",
        "- In order to choose intrinsic dimension, try all of them and find best accuracy\n"
      ],
      "metadata": {
        "id": "E0hFyLy1ysps"
      }
    },
    {
      "cell_type": "code",
      "source": [
        "# apply PCA\n",
        "\n",
        "pca = PCA(n_components=2)\n",
        "pca.fit(data3)\n",
        "transformed = pca.transform(data3)\n",
        "x = transformed[:, 0]\n",
        "y = transformed[:, 1]\n",
        "plt.scatter(x, y, c = color_list)\n",
        "plt.show()"
      ],
      "metadata": {
        "colab": {
          "base_uri": "https://localhost:8080/",
          "height": 265
        },
        "id": "kU_v0MZFzbZD",
        "outputId": "229991e1-2a0a-4490-998b-4e3d960537ef"
      },
      "execution_count": 60,
      "outputs": [
        {
          "output_type": "display_data",
          "data": {
            "image/png": "[encoded data removed]",
            "text/plain": [
              "<Figure size 432x288 with 1 Axes>"
            ]
          },
          "metadata": {}
        }
      ]
    }
  ]
}